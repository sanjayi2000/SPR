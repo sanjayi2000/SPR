{
 "cells": [
  {
   "cell_type": "code",
   "execution_count": 1,
   "metadata": {},
   "outputs": [
    {
     "name": "stderr",
     "output_type": "stream",
     "text": [
      "C:\\Users\\sanja\\AppData\\Local\\Packages\\PythonSoftwareFoundation.Python.3.10_qbz5n2kfra8p0\\LocalCache\\local-packages\\Python310\\site-packages\\pydub\\utils.py:170: RuntimeWarning: Couldn't find ffmpeg or avconv - defaulting to ffmpeg, but may not work\n",
      "  warn(\"Couldn't find ffmpeg or avconv - defaulting to ffmpeg, but may not work\", RuntimeWarning)\n"
     ]
    }
   ],
   "source": [
    "import speech_recognition as sr\n",
    "from pydub import AudioSegment"
   ]
  },
  {
   "cell_type": "code",
   "execution_count": 2,
   "metadata": {},
   "outputs": [],
   "source": [
    "def convert_audio_to_wav(audio_file):\n",
    "    \"\"\"Convert audio file to wav for processing.\"\"\"\n",
    "    if not audio_file.endswith('.wav'):\n",
    "        sound = AudioSegment.from_file(audio_file)\n",
    "        wav_file = 'converted.wav'\n",
    "        sound.export(wav_file, format='wav')\n",
    "        return wav_file\n",
    "    return audio_file"
   ]
  },
  {
   "cell_type": "markdown",
   "metadata": {},
   "source": [
    "I have included a function for converting audio files to wav in case the audio file is not wav"
   ]
  },
  {
   "cell_type": "code",
   "execution_count": 3,
   "metadata": {},
   "outputs": [],
   "source": [
    "def recognize_speech_from_file(audio_file):\n",
    "    \"\"\"Convert speech to text from an audio file.\"\"\"\n",
    "    recognizer = sr.Recognizer()\n",
    "\n",
    "    # Convert audio file to wav if necessary\n",
    "    audio_file = convert_audio_to_wav(audio_file)\n",
    "    \n",
    "    with sr.AudioFile(audio_file) as source:\n",
    "        print(\"Speak something...\")\n",
    "        \n",
    "        # Record the audio from the file\n",
    "        audio_data = recognizer.record(source)\n",
    "        print(\"Recognizing...\")\n",
    "        \n",
    "        try:\n",
    "            # Use Google's speech recognition\n",
    "            text = recognizer.recognize_google(audio_data)\n",
    "            print(f'Speech recognized: \"{text}\"')\n",
    "            print(\"Speech successfully converted to text!\")\n",
    "        \n",
    "        except sr.UnknownValueError:\n",
    "            print(\"Speech Recognition could not understand audio. Please try speaking more clearly.\")\n",
    "        \n",
    "        except sr.RequestError as e:\n",
    "            print(f\"Could not request results from the recognition service; {e}\")"
   ]
  },
  {
   "cell_type": "markdown",
   "metadata": {},
   "source": [
    "Using Google's Speech Recognition service, the SpeechRecognition library, there is a function which utilises that library to convert the source to text. Also I have included exception handling method to handle errors like unrecognisable audio"
   ]
  },
  {
   "cell_type": "code",
   "execution_count": 5,
   "metadata": {},
   "outputs": [
    {
     "name": "stdout",
     "output_type": "stream",
     "text": [
      "Speak something...\n",
      "Recognizing...\n",
      "Speech recognized: \"I believe you are just talking nonsense\"\n",
      "Speech successfully converted to text!\n"
     ]
    }
   ],
   "source": [
    "if __name__ == \"__main__\":\n",
    "    # Update with the path to your audio file\n",
    "    audio_file_path = r\"C:\\Users\\sanja\\Downloads\\16-122828-0002.wav\"\n",
    "    recognize_speech_from_file(audio_file_path)"
   ]
  }
 ],
 "metadata": {
  "kernelspec": {
   "display_name": "Python 3",
   "language": "python",
   "name": "python3"
  },
  "language_info": {
   "codemirror_mode": {
    "name": "ipython",
    "version": 3
   },
   "file_extension": ".py",
   "mimetype": "text/x-python",
   "name": "python",
   "nbconvert_exporter": "python",
   "pygments_lexer": "ipython3",
   "version": "3.10.11"
  }
 },
 "nbformat": 4,
 "nbformat_minor": 2
}
